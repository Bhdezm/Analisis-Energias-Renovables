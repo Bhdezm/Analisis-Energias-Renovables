{
 "cells": [
  {
   "cell_type": "markdown",
   "metadata": {},
   "source": [
    "# Analisis Energias Renovables"
   ]
  },
  {
   "cell_type": "code",
   "execution_count": 1,
   "metadata": {},
   "outputs": [],
   "source": [
    "import numpy as np\n",
    "import pandas as pd\n",
    "import matplotlib.pyplot as plt\n",
    "import seaborn as sns\n",
    "import plotly_express as px\n",
    "from sklearn.preprocessing import LabelEncoder\n",
    "from sklearn.preprocessing import OneHotEncoder"
   ]
  },
  {
   "cell_type": "code",
   "execution_count": 9,
   "metadata": {},
   "outputs": [
    {
     "name": "stdout",
     "output_type": "stream",
     "text": [
      "(15904, 8)\n"
     ]
    },
    {
     "data": {
      "text/html": [
       "<div>\n",
       "<style scoped>\n",
       "    .dataframe tbody tr th:only-of-type {\n",
       "        vertical-align: middle;\n",
       "    }\n",
       "\n",
       "    .dataframe tbody tr th {\n",
       "        vertical-align: top;\n",
       "    }\n",
       "\n",
       "    .dataframe thead th {\n",
       "        text-align: right;\n",
       "    }\n",
       "</style>\n",
       "<table border=\"1\" class=\"dataframe\">\n",
       "  <thead>\n",
       "    <tr style=\"text-align: right;\">\n",
       "      <th></th>\n",
       "      <th>LOCATION</th>\n",
       "      <th>INDICATOR</th>\n",
       "      <th>SUBJECT</th>\n",
       "      <th>MEASURE</th>\n",
       "      <th>FREQUENCY</th>\n",
       "      <th>TIME</th>\n",
       "      <th>Value</th>\n",
       "      <th>Flag Codes</th>\n",
       "    </tr>\n",
       "  </thead>\n",
       "  <tbody>\n",
       "    <tr>\n",
       "      <th>10501</th>\n",
       "      <td>BRN</td>\n",
       "      <td>RENEWABLE</td>\n",
       "      <td>TOT</td>\n",
       "      <td>PC_PRYENRGSUPPLY</td>\n",
       "      <td>A</td>\n",
       "      <td>1989</td>\n",
       "      <td>0.190</td>\n",
       "      <td>NaN</td>\n",
       "    </tr>\n",
       "    <tr>\n",
       "      <th>15204</th>\n",
       "      <td>URY</td>\n",
       "      <td>RENEWABLE</td>\n",
       "      <td>TOT</td>\n",
       "      <td>PC_PRYENRGSUPPLY</td>\n",
       "      <td>A</td>\n",
       "      <td>1988</td>\n",
       "      <td>43.590</td>\n",
       "      <td>NaN</td>\n",
       "    </tr>\n",
       "    <tr>\n",
       "      <th>5364</th>\n",
       "      <td>BEN</td>\n",
       "      <td>RENEWABLE</td>\n",
       "      <td>TOT</td>\n",
       "      <td>KTOE</td>\n",
       "      <td>A</td>\n",
       "      <td>2004</td>\n",
       "      <td>1623.353</td>\n",
       "      <td>NaN</td>\n",
       "    </tr>\n",
       "    <tr>\n",
       "      <th>2185</th>\n",
       "      <td>BRA</td>\n",
       "      <td>RENEWABLE</td>\n",
       "      <td>TOT</td>\n",
       "      <td>KTOE</td>\n",
       "      <td>A</td>\n",
       "      <td>1961</td>\n",
       "      <td>NaN</td>\n",
       "      <td>L</td>\n",
       "    </tr>\n",
       "    <tr>\n",
       "      <th>11322</th>\n",
       "      <td>DOM</td>\n",
       "      <td>RENEWABLE</td>\n",
       "      <td>TOT</td>\n",
       "      <td>PC_PRYENRGSUPPLY</td>\n",
       "      <td>A</td>\n",
       "      <td>1970</td>\n",
       "      <td>NaN</td>\n",
       "      <td>L</td>\n",
       "    </tr>\n",
       "  </tbody>\n",
       "</table>\n",
       "</div>"
      ],
      "text/plain": [
       "      LOCATION  INDICATOR SUBJECT           MEASURE FREQUENCY  TIME     Value  \\\n",
       "10501      BRN  RENEWABLE     TOT  PC_PRYENRGSUPPLY         A  1989     0.190   \n",
       "15204      URY  RENEWABLE     TOT  PC_PRYENRGSUPPLY         A  1988    43.590   \n",
       "5364       BEN  RENEWABLE     TOT              KTOE         A  2004  1623.353   \n",
       "2185       BRA  RENEWABLE     TOT              KTOE         A  1961       NaN   \n",
       "11322      DOM  RENEWABLE     TOT  PC_PRYENRGSUPPLY         A  1970       NaN   \n",
       "\n",
       "      Flag Codes  \n",
       "10501        NaN  \n",
       "15204        NaN  \n",
       "5364         NaN  \n",
       "2185           L  \n",
       "11322          L  "
      ]
     },
     "execution_count": 9,
     "metadata": {},
     "output_type": "execute_result"
    }
   ],
   "source": [
    "df=pd.read_csv('res/energias_renovables.csv')\n",
    "print(df.shape)\n",
    "df.sample(5)"
   ]
  },
  {
   "cell_type": "code",
   "execution_count": 12,
   "metadata": {},
   "outputs": [
    {
     "name": "stdout",
     "output_type": "stream",
     "text": [
      "<class 'pandas.core.frame.DataFrame'>\n",
      "RangeIndex: 15904 entries, 0 to 15903\n",
      "Data columns (total 8 columns):\n",
      " #   Column      Non-Null Count  Dtype  \n",
      "---  ------      --------------  -----  \n",
      " 0   LOCATION    15904 non-null  object \n",
      " 1   INDICATOR   15904 non-null  object \n",
      " 2   SUBJECT     15904 non-null  object \n",
      " 3   MEASURE     15904 non-null  object \n",
      " 4   FREQUENCY   15904 non-null  object \n",
      " 5   TIME        15904 non-null  int64  \n",
      " 6   Value       12017 non-null  float64\n",
      " 7   Flag Codes  3887 non-null   object \n",
      "dtypes: float64(1), int64(1), object(6)\n",
      "memory usage: 994.1+ KB\n"
     ]
    }
   ],
   "source": [
    "df.info()"
   ]
  },
  {
   "cell_type": "code",
   "execution_count": 22,
   "metadata": {},
   "outputs": [
    {
     "data": {
      "text/html": [
       "<div>\n",
       "<style scoped>\n",
       "    .dataframe tbody tr th:only-of-type {\n",
       "        vertical-align: middle;\n",
       "    }\n",
       "\n",
       "    .dataframe tbody tr th {\n",
       "        vertical-align: top;\n",
       "    }\n",
       "\n",
       "    .dataframe thead th {\n",
       "        text-align: right;\n",
       "    }\n",
       "</style>\n",
       "<table border=\"1\" class=\"dataframe\">\n",
       "  <thead>\n",
       "    <tr style=\"text-align: right;\">\n",
       "      <th></th>\n",
       "      <th>LOCATION</th>\n",
       "      <th>INDICATOR</th>\n",
       "      <th>SUBJECT</th>\n",
       "      <th>MEASURE</th>\n",
       "      <th>FREQUENCY</th>\n",
       "      <th>TIME</th>\n",
       "      <th>Value</th>\n",
       "      <th>Flag Codes</th>\n",
       "    </tr>\n",
       "  </thead>\n",
       "  <tbody>\n",
       "    <tr>\n",
       "      <th>count</th>\n",
       "      <td>15904</td>\n",
       "      <td>15904</td>\n",
       "      <td>15904</td>\n",
       "      <td>15904</td>\n",
       "      <td>15904</td>\n",
       "      <td>15904.000000</td>\n",
       "      <td>1.201700e+04</td>\n",
       "      <td>3887</td>\n",
       "    </tr>\n",
       "    <tr>\n",
       "      <th>unique</th>\n",
       "      <td>142</td>\n",
       "      <td>1</td>\n",
       "      <td>1</td>\n",
       "      <td>2</td>\n",
       "      <td>1</td>\n",
       "      <td>NaN</td>\n",
       "      <td>NaN</td>\n",
       "      <td>1</td>\n",
       "    </tr>\n",
       "    <tr>\n",
       "      <th>top</th>\n",
       "      <td>AUS</td>\n",
       "      <td>RENEWABLE</td>\n",
       "      <td>TOT</td>\n",
       "      <td>KTOE</td>\n",
       "      <td>A</td>\n",
       "      <td>NaN</td>\n",
       "      <td>NaN</td>\n",
       "      <td>L</td>\n",
       "    </tr>\n",
       "    <tr>\n",
       "      <th>freq</th>\n",
       "      <td>112</td>\n",
       "      <td>15904</td>\n",
       "      <td>15904</td>\n",
       "      <td>7952</td>\n",
       "      <td>15904</td>\n",
       "      <td>NaN</td>\n",
       "      <td>NaN</td>\n",
       "      <td>3887</td>\n",
       "    </tr>\n",
       "    <tr>\n",
       "      <th>mean</th>\n",
       "      <td>NaN</td>\n",
       "      <td>NaN</td>\n",
       "      <td>NaN</td>\n",
       "      <td>NaN</td>\n",
       "      <td>NaN</td>\n",
       "      <td>1987.500000</td>\n",
       "      <td>1.322108e+04</td>\n",
       "      <td>NaN</td>\n",
       "    </tr>\n",
       "    <tr>\n",
       "      <th>std</th>\n",
       "      <td>NaN</td>\n",
       "      <td>NaN</td>\n",
       "      <td>NaN</td>\n",
       "      <td>NaN</td>\n",
       "      <td>NaN</td>\n",
       "      <td>16.163738</td>\n",
       "      <td>9.203502e+04</td>\n",
       "      <td>NaN</td>\n",
       "    </tr>\n",
       "    <tr>\n",
       "      <th>min</th>\n",
       "      <td>NaN</td>\n",
       "      <td>NaN</td>\n",
       "      <td>NaN</td>\n",
       "      <td>NaN</td>\n",
       "      <td>NaN</td>\n",
       "      <td>1960.000000</td>\n",
       "      <td>0.000000e+00</td>\n",
       "      <td>NaN</td>\n",
       "    </tr>\n",
       "    <tr>\n",
       "      <th>25%</th>\n",
       "      <td>NaN</td>\n",
       "      <td>NaN</td>\n",
       "      <td>NaN</td>\n",
       "      <td>NaN</td>\n",
       "      <td>NaN</td>\n",
       "      <td>1973.750000</td>\n",
       "      <td>9.580000e+00</td>\n",
       "      <td>NaN</td>\n",
       "    </tr>\n",
       "    <tr>\n",
       "      <th>50%</th>\n",
       "      <td>NaN</td>\n",
       "      <td>NaN</td>\n",
       "      <td>NaN</td>\n",
       "      <td>NaN</td>\n",
       "      <td>NaN</td>\n",
       "      <td>1987.500000</td>\n",
       "      <td>7.486000e+01</td>\n",
       "      <td>NaN</td>\n",
       "    </tr>\n",
       "    <tr>\n",
       "      <th>75%</th>\n",
       "      <td>NaN</td>\n",
       "      <td>NaN</td>\n",
       "      <td>NaN</td>\n",
       "      <td>NaN</td>\n",
       "      <td>NaN</td>\n",
       "      <td>2001.250000</td>\n",
       "      <td>1.816018e+03</td>\n",
       "      <td>NaN</td>\n",
       "    </tr>\n",
       "    <tr>\n",
       "      <th>max</th>\n",
       "      <td>NaN</td>\n",
       "      <td>NaN</td>\n",
       "      <td>NaN</td>\n",
       "      <td>NaN</td>\n",
       "      <td>NaN</td>\n",
       "      <td>2015.000000</td>\n",
       "      <td>1.894019e+06</td>\n",
       "      <td>NaN</td>\n",
       "    </tr>\n",
       "  </tbody>\n",
       "</table>\n",
       "</div>"
      ],
      "text/plain": [
       "       LOCATION  INDICATOR SUBJECT MEASURE FREQUENCY          TIME  \\\n",
       "count     15904      15904   15904   15904     15904  15904.000000   \n",
       "unique      142          1       1       2         1           NaN   \n",
       "top         AUS  RENEWABLE     TOT    KTOE         A           NaN   \n",
       "freq        112      15904   15904    7952     15904           NaN   \n",
       "mean        NaN        NaN     NaN     NaN       NaN   1987.500000   \n",
       "std         NaN        NaN     NaN     NaN       NaN     16.163738   \n",
       "min         NaN        NaN     NaN     NaN       NaN   1960.000000   \n",
       "25%         NaN        NaN     NaN     NaN       NaN   1973.750000   \n",
       "50%         NaN        NaN     NaN     NaN       NaN   1987.500000   \n",
       "75%         NaN        NaN     NaN     NaN       NaN   2001.250000   \n",
       "max         NaN        NaN     NaN     NaN       NaN   2015.000000   \n",
       "\n",
       "               Value Flag Codes  \n",
       "count   1.201700e+04       3887  \n",
       "unique           NaN          1  \n",
       "top              NaN          L  \n",
       "freq             NaN       3887  \n",
       "mean    1.322108e+04        NaN  \n",
       "std     9.203502e+04        NaN  \n",
       "min     0.000000e+00        NaN  \n",
       "25%     9.580000e+00        NaN  \n",
       "50%     7.486000e+01        NaN  \n",
       "75%     1.816018e+03        NaN  \n",
       "max     1.894019e+06        NaN  "
      ]
     },
     "execution_count": 22,
     "metadata": {},
     "output_type": "execute_result"
    }
   ],
   "source": [
    "df.describe(include='all')"
   ]
  },
  {
   "cell_type": "code",
   "execution_count": 11,
   "metadata": {},
   "outputs": [
    {
     "data": {
      "text/plain": [
       "LOCATION          0\n",
       "INDICATOR         0\n",
       "SUBJECT           0\n",
       "MEASURE           0\n",
       "FREQUENCY         0\n",
       "TIME              0\n",
       "Value          3887\n",
       "Flag Codes    12017\n",
       "dtype: int64"
      ]
     },
     "execution_count": 11,
     "metadata": {},
     "output_type": "execute_result"
    }
   ],
   "source": [
    "df.isnull().sum()"
   ]
  },
  {
   "cell_type": "code",
   "execution_count": 20,
   "metadata": {},
   "outputs": [
    {
     "data": {
      "text/plain": [
       "<Axes: >"
      ]
     },
     "execution_count": 20,
     "metadata": {},
     "output_type": "execute_result"
    },
    {
     "data": {
      "image/png": "[encoded data removed]",
      "text/plain": [
       "<Figure size 640x480 with 2 Axes>"
      ]
     },
     "metadata": {},
     "output_type": "display_data"
    }
   ],
   "source": [
    "sns.heatmap(df.isnull())"
   ]
  },
  {
   "cell_type": "code",
   "execution_count": 16,
   "metadata": {},
   "outputs": [
    {
     "name": "stdout",
     "output_type": "stream",
     "text": [
      "LOCATION: ['AUS' 'AUT' 'BEL' 'CAN' 'CZE' 'DNK' 'FIN' 'FRA' 'DEU' 'GRC' 'HUN' 'ISL'\n",
      " 'IRL' 'ITA' 'JPN' 'KOR' 'LUX' 'MEX' 'NLD' 'NZL' 'NOR' 'POL' 'PRT' 'SVK'\n",
      " 'ESP' 'SWE' 'CHE' 'TUR' 'GBR' 'USA' 'OEU' 'ALB' 'DZA' 'ARG' 'ARM' 'AZE'\n",
      " 'BGD' 'BLR' 'BIH' 'BRA' 'BRN' 'BGR' 'KHM' 'CHL' 'CHN' 'COL' 'HRV' 'CYP'\n",
      " 'EGY' 'EST' 'ETH' 'GEO' 'GHA' 'HTI' 'HKG' 'IND' 'IDN' 'IRN' 'ISR' 'KAZ'\n",
      " 'LVA' 'LTU' 'MKD' 'MYS' 'MLT' 'MDA' 'MOZ' 'NGA' 'PAK' 'PRY' 'PER' 'PHL'\n",
      " 'ROU' 'RUS' 'SAU' 'SGP' 'SVN' 'ZAF' 'SDN' 'TWN' 'TZA' 'THA' 'UKR' 'ARE'\n",
      " 'URY' 'VNM' 'ZMB' 'WLD' 'SRB' 'MNE' 'G20' 'EU28' 'OECD' 'AGO' 'BHR' 'BEN'\n",
      " 'BOL' 'BWA' 'CMR' 'COG' 'CRI' 'CIV' 'CUB' 'PRK' 'COD' 'DOM' 'ECU' 'SLV'\n",
      " 'ERI' 'GAB' 'GTM' 'HND' 'IRQ' 'JAM' 'JOR' 'KEN' 'KWT' 'KGZ' 'LBN' 'LBY'\n",
      " 'MNG' 'MAR' 'MMR' 'NAM' 'NPL' 'NIC' 'NER' 'OMN' 'PAN' 'QAT' 'SEN' 'LKA'\n",
      " 'SYR' 'TJK' 'TGO' 'TTO' 'TUN' 'TKM' 'UZB' 'VEN' 'YEM' 'ZWE']\n",
      "INDICATOR: ['RENEWABLE']\n",
      "SUBJECT: ['TOT']\n",
      "MEASURE: ['KTOE' 'PC_PRYENRGSUPPLY']\n",
      "FREQUENCY: ['A']\n",
      "Flag Codes: [nan 'L']\n"
     ]
    }
   ],
   "source": [
    "for i in df.select_dtypes('object').columns:\n",
    "    print(f'{i}: {df[i].unique()}')"
   ]
  }
 ],
 "metadata": {
  "kernelspec": {
   "display_name": "Python 3",
   "language": "python",
   "name": "python3"
  },
  "language_info": {
   "codemirror_mode": {
    "name": "ipython",
    "version": 3
   },
   "file_extension": ".py",
   "mimetype": "text/x-python",
   "name": "python",
   "nbconvert_exporter": "python",
   "pygments_lexer": "ipython3",
   "version": "3.12.3"
  }
 },
 "nbformat": 4,
 "nbformat_minor": 2
}
